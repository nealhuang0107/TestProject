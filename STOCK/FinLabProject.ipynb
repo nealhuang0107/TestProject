{
 "cells": [
  {
   "cell_type": "code",
   "execution_count": 1,
   "id": "a2b5938a",
   "metadata": {},
   "outputs": [
    {
     "name": "stdout",
     "output_type": "stream",
     "text": [
      "輸入成功!\n"
     ]
    },
    {
     "name": "stderr",
     "output_type": "stream",
     "text": [
      "WARNING:finlab.data:price:收盤價 -- Daily usage: 107.6 / 500 MB\n",
      "WARNING:finlab.data:security_categories -- Daily usage: 107.7 / 500 MB\n",
      "WARNING:finlab.data:etl:adj_close -- Daily usage: 123.1 / 500 MB\n",
      "WARNING:finlab.data:benchmark_return:發行量加權股價報酬指數 -- Daily usage: 123.1 / 500 MB\n"
     ]
    },
    {
     "data": {
      "text/html": [
       "\n",
       "        <iframe\n",
       "            width=\"100%\"\n",
       "            height=\"600\"\n",
       "            src=\"https://ai.finlab.tw/strategy/?uid=8LK0VYcIVaVNLPSI9clNfbbBb5n1&sid=未命名\"\n",
       "            frameborder=\"0\"\n",
       "            allowfullscreen\n",
       "            \n",
       "        ></iframe>\n",
       "        "
      ],
      "text/plain": [
       "<IPython.lib.display.IFrame at 0x299a56a3340>"
      ]
     },
     "metadata": {},
     "output_type": "display_data"
    },
    {
     "data": {
      "text/plain": [
       "<finlab.core.report.Report at 0x299a5d455d0>"
      ]
     },
     "execution_count": 1,
     "metadata": {},
     "output_type": "execute_result"
    }
   ],
   "source": [
    "#iW2lMi9EvErzZk2ndkaEV8Kn5kb779RBCqQE1LcBWpgm1djO9D+i1LtWq03gCqfb#free\n",
    "from finlab import data\n",
    "from finlab import backtest\n",
    "close = data.get('price:收盤價')\n",
    "\n",
    "# 創三百個交易日新高\n",
    "#當中的 position 是一個 True 或 False 的表，代表某檔股票當天是否創新高，創新高就為 True，反之則為 False\n",
    "position = close >= close.rolling(300).max()\n",
    "\n",
    "backtest.sim(position, resample='M')\n",
    "# report.display()"
   ]
  },
  {
   "cell_type": "code",
   "execution_count": null,
   "id": "cb30904d",
   "metadata": {},
   "outputs": [],
   "source": []
  }
 ],
 "metadata": {
  "kernelspec": {
   "display_name": "Python 3 (ipykernel)",
   "language": "python",
   "name": "python3"
  },
  "language_info": {
   "codemirror_mode": {
    "name": "ipython",
    "version": 3
   },
   "file_extension": ".py",
   "mimetype": "text/x-python",
   "name": "python",
   "nbconvert_exporter": "python",
   "pygments_lexer": "ipython3",
   "version": "3.10.11"
  }
 },
 "nbformat": 4,
 "nbformat_minor": 5
}
