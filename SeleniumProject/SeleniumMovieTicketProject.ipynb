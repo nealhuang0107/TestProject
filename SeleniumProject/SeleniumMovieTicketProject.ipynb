{
 "cells": [
  {
   "cell_type": "code",
   "execution_count": 8,
   "metadata": {},
   "outputs": [],
   "source": [
    "from selenium import webdriver\n",
    "from selenium.webdriver.chrome.service import Service\n",
    "from selenium.webdriver.support.ui import Select\n",
    "from selenium.webdriver.common.by import By\n",
    "from selenium.webdriver.support import expected_conditions as EC\n",
    "from time import sleep\n",
    "\n",
    "#Browser Brave\n",
    "brave_path = \"C:\\Program Files\\BraveSoftware\\Brave-Browser\\Application/brave.exe\"\n",
    "\n",
    "service = Service(executable_path='./chromedriver.exe')\n",
    "options = webdriver.ChromeOptions()\n",
    "options.binary_location = brave_path\n",
    "browser= webdriver.Chrome(service=service, options=options)\n",
    "\n",
    "##購票網站\n",
    "browser.get(\"https://www.vscinemas.com.tw/vsweb/\")\n",
    "\n",
    "browser.implicitly_wait(5)\n",
    "\n",
    "##選擇快速訂票\n",
    "element_button_selectTab = browser.find_element(By.XPATH,'//*[@id=\"tab1\"]')\n",
    "element_button_selectTab.click()\n",
    "\n",
    "##選擇影城\n",
    "element_select_step = Select(browser.find_element(By.XPATH,'//*[@id=\"searchBox1\"]/form/ul/li[1]/select'))\n",
    "element_select_step.select_by_value('12|QS') ##台北京站威秀\n",
    "\n",
    "\n",
    "sleep(0.5)\n",
    "##選擇影片\n",
    "element_select_movie = Select(browser.find_element(By.XPATH,'//*[@id=\"searchBox1\"]/form/ul/li[2]/select'))\n",
    "element_select_movie.select_by_value('HO00014239') ##猩球崛起：王國誕生\n",
    "\n",
    "sleep(0.5)\n",
    "#選擇日期\n",
    "element_select_date = Select(browser.find_element(By.XPATH,'//*[@id=\"searchBox1\"]/form/ul/li[3]/select'))\n",
    "element_select_date.select_by_value('2026/06/11')\n",
    "\n",
    "sleep(0.5)\n",
    "#選擇場次\n",
    "\n"
   ]
  }
 ],
 "metadata": {
  "kernelspec": {
   "display_name": "test",
   "language": "python",
   "name": "python3"
  },
  "language_info": {
   "codemirror_mode": {
    "name": "ipython",
    "version": 3
   },
   "file_extension": ".py",
   "mimetype": "text/x-python",
   "name": "python",
   "nbconvert_exporter": "python",
   "pygments_lexer": "ipython3",
   "version": "3.10.11"
  }
 },
 "nbformat": 4,
 "nbformat_minor": 2
}
